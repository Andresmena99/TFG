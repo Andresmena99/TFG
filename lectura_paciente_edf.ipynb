{
 "metadata": {
  "language_info": {
   "codemirror_mode": {
    "name": "ipython",
    "version": 3
   },
   "file_extension": ".py",
   "mimetype": "text/x-python",
   "name": "python",
   "nbconvert_exporter": "python",
   "pygments_lexer": "ipython3",
   "version": "3.8.5"
  },
  "orig_nbformat": 2,
  "kernelspec": {
   "name": "python38564bit908cfdbfc4434f88a147a6c06e1d4925",
   "display_name": "Python 3.8.5 64-bit"
  },
  "metadata": {
   "interpreter": {
    "hash": "916dbcbb3f70747c44a77c7bcd40155683ae19c65e1c03b4aa3499c5328201f1"
   }
  }
 },
 "nbformat": 4,
 "nbformat_minor": 2,
 "cells": [
  {
   "source": [
    "# Lectura formato EDF\n",
    "\n",
    "En este notebook, se explicará un ejemplo de lectura de información de paciente en formato EDF.\n",
    "\n",
    "Con esta lectura, analizamos la frecuencia de muestreo de cada una de las señales disponibles, y vemos la totalidad de señales de un paciente."
   ],
   "cell_type": "markdown",
   "metadata": {}
  },
  {
   "cell_type": "code",
   "execution_count": 1,
   "metadata": {},
   "outputs": [],
   "source": [
    "import pandas as pd\n",
    "from pyedflib import highlevel"
   ]
  },
  {
   "cell_type": "code",
   "execution_count": 2,
   "metadata": {},
   "outputs": [],
   "source": [
    "filename = \"../data/data_5.edf\""
   ]
  },
  {
   "cell_type": "code",
   "execution_count": 3,
   "metadata": {},
   "outputs": [],
   "source": [
    "# El header tiene informacion sobre cuando se hizo la prueba, tecnico, etc.\n",
    "signals, signal_headers, header = highlevel.read_edf(filename)"
   ]
  },
  {
   "cell_type": "code",
   "execution_count": 4,
   "metadata": {},
   "outputs": [
    {
     "output_type": "stream",
     "name": "stdout",
     "text": [
      "Señales disponibles en la prueba:\nAbdomen\nAbdomen CaL\nActivity\nAudio Volume dB\ncRIP Flow\ncRIP Sum\nX Axis\nY Axis\nZ Axis\nElevation\nRIP-Phase\nFlow\nResp Rate\nK\nFlow Limitation\nPulse Waveform\nPosAngle\nNasal Pressure\nPulse\nPWA\nRIP Flow\nRIP Sum\nSnore\nSaturation\nSpO2 B-B\nTERMISTOR\nChest\nVolumen de sonid\n"
     ]
    }
   ],
   "source": [
    "señales = [signal['label'] for signal in signal_headers]\n",
    "print (\"Señales disponibles en la prueba:\"+\"\\n\"+'\\n'.join(señales))"
   ]
  },
  {
   "source": [
    "## Señales a estudiar\n",
    "\n",
    "Se desea estudiar la frecuencia de muestreo que tienen las siguientes señales:\n",
    "\n",
    "   - Snore\n",
    "   - Activity\n",
    "   - Abdomen\n",
    "   - Audio volume db\n",
    "   - Pulse\n",
    "   - Nasal Pressure\n",
    "   - Flow\n",
    "   - SpO2"
   ],
   "cell_type": "markdown",
   "metadata": {}
  },
  {
   "cell_type": "code",
   "execution_count": 5,
   "metadata": {},
   "outputs": [
    {
     "output_type": "execute_result",
     "data": {
      "text/plain": [
       "                Frecuencia Muestreo (Hz)\n",
       "Abdomen                               20\n",
       "Activity                              10\n",
       "Audio Volume dB                       20\n",
       "Flow                                 200\n",
       "Nasal Pressure                       200\n",
       "Pulse                                  3\n",
       "Snore                                200\n",
       "SpO2 B-B                               3"
      ],
      "text/html": "<div>\n<style scoped>\n    .dataframe tbody tr th:only-of-type {\n        vertical-align: middle;\n    }\n\n    .dataframe tbody tr th {\n        vertical-align: top;\n    }\n\n    .dataframe thead th {\n        text-align: right;\n    }\n</style>\n<table border=\"1\" class=\"dataframe\">\n  <thead>\n    <tr style=\"text-align: right;\">\n      <th></th>\n      <th>Frecuencia Muestreo (Hz)</th>\n    </tr>\n  </thead>\n  <tbody>\n    <tr>\n      <th>Abdomen</th>\n      <td>20</td>\n    </tr>\n    <tr>\n      <th>Activity</th>\n      <td>10</td>\n    </tr>\n    <tr>\n      <th>Audio Volume dB</th>\n      <td>20</td>\n    </tr>\n    <tr>\n      <th>Flow</th>\n      <td>200</td>\n    </tr>\n    <tr>\n      <th>Nasal Pressure</th>\n      <td>200</td>\n    </tr>\n    <tr>\n      <th>Pulse</th>\n      <td>3</td>\n    </tr>\n    <tr>\n      <th>Snore</th>\n      <td>200</td>\n    </tr>\n    <tr>\n      <th>SpO2 B-B</th>\n      <td>3</td>\n    </tr>\n  </tbody>\n</table>\n</div>"
     },
     "metadata": {},
     "execution_count": 5
    }
   ],
   "source": [
    "signal_names = sorted([\"Snore\", \"Activity\", \"Abdomen\", \"Audio Volume dB\", \"Pulse\", \"Nasal Pressure\", \"Flow\", \"SpO2 B-B\"])\n",
    "df_frecuency_sample = pd.DataFrame(index = signal_names, columns=[\"Frecuencia Muestreo (Hz)\"])\n",
    "\n",
    "for signal_info in signal_headers:\n",
    "    if signal_info[\"label\"] in signal_names:\n",
    "        df_frecuency_sample[\"Frecuencia Muestreo (Hz)\"][signal_info[\"label\"]] = round(signal_info[\"sample_rate\"])\n",
    "\n",
    "df_frecuency_sample"
   ]
  },
  {
   "source": [
    "Como podemos observar, las frecuencias de sample varían en función de la señal que estamos analizando."
   ],
   "cell_type": "markdown",
   "metadata": {}
  }
 ]
}